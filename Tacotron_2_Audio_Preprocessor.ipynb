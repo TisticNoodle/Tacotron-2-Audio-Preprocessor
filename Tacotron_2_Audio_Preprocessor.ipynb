{
  "nbformat": 4,
  "nbformat_minor": 0,
  "metadata": {
    "colab": {
      "provenance": [],
      "gpuType": "T4"
    },
    "kernelspec": {
      "name": "python3",
      "display_name": "Python 3"
    },
    "language_info": {
      "name": "python"
    },
    "accelerator": "GPU"
  },
  "cells": [
    {
      "cell_type": "code",
      "execution_count": null,
      "metadata": {
        "id": "craRbAJxfHyA"
      },
      "outputs": [],
      "source": [
        "# @title Installation\n",
        "!git clone https://github.com/YTR76/Tacotron-2-Audio-Preprocessor.git\n",
        "%cd Tacotron-2-Audio-Preprocessor\n",
        "!pip install librosa soundfile\n",
        "!pip install --upgrade ipywidgets\n",
        "!pip install google.colab\n",
        "import google.colab\n",
        "from ipywidgets import * # Use * to import all modules from ipywidgets\n",
        "import os\n",
        "!mkdir unprocessed\n",
        "!mkdir wavs"
      ]
    },
    {
      "cell_type": "code",
      "source": [
        "# @title Import unprocessed wavs\n",
        "\n",
        "# Specify the target directory\n",
        "target_directory = '/content/Tacotron-2-Audio-Preprocessor/unprocessed'\n",
        "\n",
        "# Upload the files\n",
        "uploaded = google.colab.files.upload()\n",
        "\n",
        "# Save the uploaded files to the target directory\n",
        "for filename, data in uploaded.items():\n",
        "    full_file_path = os.path.join(target_directory, filename)\n",
        "    with open(full_file_path, 'wb') as f:\n",
        "        f.write(data)"
      ],
      "metadata": {
        "id": "I5-Xo7fhguCw"
      },
      "execution_count": null,
      "outputs": []
    },
    {
      "cell_type": "code",
      "source": [
        "# @title Preprocess wavs\n",
        "!python tacotron2_preprocessor_wav_files.py"
      ],
      "metadata": {
        "id": "l-MhRws1jAmC"
      },
      "execution_count": null,
      "outputs": []
    }
  ]
}